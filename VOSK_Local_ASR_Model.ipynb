{
 "cells": [
  {
   "cell_type": "code",
   "execution_count": 1,
   "id": "dd780658-b01e-4826-b98d-44b94feef755",
   "metadata": {},
   "outputs": [],
   "source": [
    "import vosk\n",
    "import sounddevice as sd\n",
    "import queue\n",
    "import json"
   ]
  },
  {
   "cell_type": "markdown",
   "id": "d3e0f73a-d386-4dee-979b-3d40a7850203",
   "metadata": {},
   "source": [
    "Download any VOSK model from this link and change the path:\n",
    "\n",
    "https://alphacephei.com/vosk/models"
   ]
  },
  {
   "cell_type": "code",
   "execution_count": 2,
   "id": "4586acd8-e536-4c4d-8e16-0b1c380f059f",
   "metadata": {},
   "outputs": [
    {
     "name": "stderr",
     "output_type": "stream",
     "text": [
      "LOG (VoskAPI:ReadDataFiles():model.cc:213) Decoding params beam=13 max-active=7000 lattice-beam=6\n",
      "LOG (VoskAPI:ReadDataFiles():model.cc:216) Silence phones 1:2:3:4:5:6:7:8:9:10\n",
      "LOG (VoskAPI:RemoveOrphanNodes():nnet-nnet.cc:948) Removed 1 orphan nodes.\n",
      "LOG (VoskAPI:RemoveOrphanComponents():nnet-nnet.cc:847) Removing 2 orphan components.\n",
      "LOG (VoskAPI:Collapse():nnet-utils.cc:1488) Added 1 components, removed 2\n",
      "LOG (VoskAPI:ReadDataFiles():model.cc:248) Loading i-vector extractor from /mnt/e/Virtual Agent/Vosk Speeck Recognition/vosk-model-en-in-0.5/ivector/final.ie\n",
      "LOG (VoskAPI:ComputeDerivedVars():ivector-extractor.cc:183) Computing derived variables for iVector extractor\n",
      "LOG (VoskAPI:ComputeDerivedVars():ivector-extractor.cc:204) Done.\n",
      "LOG (VoskAPI:ReadDataFiles():model.cc:279) Loading HCLG from /mnt/e/Virtual Agent/Vosk Speeck Recognition/vosk-model-en-in-0.5/graph/HCLG.fst\n",
      "LOG (VoskAPI:ReadDataFiles():model.cc:297) Loading words from /mnt/e/Virtual Agent/Vosk Speeck Recognition/vosk-model-en-in-0.5/graph/words.txt\n",
      "LOG (VoskAPI:ReadDataFiles():model.cc:308) Loading winfo /mnt/e/Virtual Agent/Vosk Speeck Recognition/vosk-model-en-in-0.5/graph/phones/word_boundary.int\n",
      "LOG (VoskAPI:ReadDataFiles():model.cc:315) Loading subtract G.fst model from /mnt/e/Virtual Agent/Vosk Speeck Recognition/vosk-model-en-in-0.5/rescore/G.fst\n",
      "LOG (VoskAPI:ReadDataFiles():model.cc:317) Loading CARPA model from /mnt/e/Virtual Agent/Vosk Speeck Recognition/vosk-model-en-in-0.5/rescore/G.carpa\n"
     ]
    }
   ],
   "source": [
    "# Initialize the Vosk model\n",
    "model = vosk.Model(\"/mnt/e/Virtual Agent/Vosk Speeck Recognition/vosk-model-en-in-0.5\")\n",
    "recognizer = vosk.KaldiRecognizer(model, 16000)\n",
    "\n",
    "# Create a queue to hold audio data\n",
    "audio_queue = queue.Queue()\n",
    "\n",
    "# Callback function to process audio data from sounddevice\n",
    "def audio_callback(indata, frames, time, status):\n",
    "    if status:\n",
    "        print(status)\n",
    "    audio_queue.put(bytes(indata))\n",
    "\n",
    "def listen_and_transcribe():\n",
    "    \"\"\"\n",
    "    Continuously listens for user speech until it detects spoken input, then returns the transcribed text.\n",
    "    \"\"\"\n",
    "    with sd.RawInputStream(samplerate=16000, blocksize=8000, dtype='int16',\n",
    "                           channels=1, callback=audio_callback):\n",
    "        print(\"Listening...\")\n",
    "        while True:\n",
    "            data = audio_queue.get()\n",
    "            if recognizer.AcceptWaveform(data):\n",
    "                result = recognizer.Result()\n",
    "                text = json.loads(result)[\"text\"]\n",
    "                \n",
    "                if text.strip():  # Check if there is any spoken input\n",
    "                    return text"
   ]
  },
  {
   "cell_type": "code",
   "execution_count": 4,
   "id": "81a0bace-39e4-4f31-9a94-b00c1f22e2a5",
   "metadata": {},
   "outputs": [
    {
     "name": "stdout",
     "output_type": "stream",
     "text": [
      "Listening...\n",
      "Transcribed text: hello how are you\n"
     ]
    }
   ],
   "source": [
    "# Example usage\n",
    "transcribed_text = listen_and_transcribe()\n",
    "print(\"Transcribed text:\", transcribed_text)"
   ]
  },
  {
   "cell_type": "code",
   "execution_count": null,
   "id": "ecf27f76-b94f-4698-848d-142eef239610",
   "metadata": {},
   "outputs": [],
   "source": []
  }
 ],
 "metadata": {
  "kernelspec": {
   "display_name": "Python 3 (ipykernel)",
   "language": "python",
   "name": "python3"
  },
  "language_info": {
   "codemirror_mode": {
    "name": "ipython",
    "version": 3
   },
   "file_extension": ".py",
   "mimetype": "text/x-python",
   "name": "python",
   "nbconvert_exporter": "python",
   "pygments_lexer": "ipython3",
   "version": "3.10.14"
  }
 },
 "nbformat": 4,
 "nbformat_minor": 5
}
